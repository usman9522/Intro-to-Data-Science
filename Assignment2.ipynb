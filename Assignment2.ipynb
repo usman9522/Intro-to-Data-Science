{
  "nbformat": 4,
  "nbformat_minor": 0,
  "metadata": {
    "colab": {
      "provenance": []
    },
    "kernelspec": {
      "name": "python3",
      "display_name": "Python 3"
    },
    "language_info": {
      "name": "python"
    }
  },
  "cells": [
    {
      "cell_type": "markdown",
      "source": [
        "***Part 1: User Data Processing with Lists***"
      ],
      "metadata": {
        "id": "5Sl57R5lcC0Z"
      }
    },
    {
      "cell_type": "code",
      "source": [
        "data = [\n",
        "    (1, 'Alice Johnson', 25, 'USA'),\n",
        "    (2, 'Liam Smith', 34, 'Canada'),\n",
        "    (3, 'Usman', 22, 'UK'),\n",
        "    (4, 'Usman', 29, 'Germany'),\n",
        "    (5, 'Emma Jones', 40, 'France'),\n",
        "    (6, 'Oliver Garcia', 31, 'Italy'),\n",
        "    (7, 'Sophia Martinez', 27, 'Spain'),\n",
        "    (8, 'James Davis', 45, 'Australia'),\n",
        "    (9, 'Ava Rodriguez', 19, 'India'),\n",
        "    (10, 'Elijah Wilson', 38, 'Brazil'),\n",
        "    (11, 'Mia Anderson', 23, 'USA'),\n",
        "    (12, 'Lucas Taylor', 35, 'Canada'),\n",
        "    (13, 'Isabella Thomas', 28, 'UK'),\n",
        "    (14, 'Mason Hernandez', 41, 'Germany'),\n",
        "    (15, 'Amelia Moore', 30, 'France'),\n",
        "    (16, 'Logan Jackson', 26, 'Italy'),\n",
        "    (17, 'Harper Lee', 32, 'Spain'),\n",
        "    (18, 'Benjamin Harris', 37, 'Australia'),\n",
        "    (19, 'Ella Clark', 21, 'India'),\n",
        "    (20, 'Jackson Lewis', 39, 'Brazil'),\n",
        "    (21, 'Chloe Young', 24, 'USA'),\n",
        "    (22, 'Alexander Hall', 36, 'Canada'),\n",
        "    (23, 'Abigail Allen', 33, 'UK'),\n",
        "    (24, 'Henry Wright', 42, 'Germany'),\n",
        "    (25, 'Sofia King', 29, 'France'),\n",
        "    (26, 'Sebastian Scott', 30, 'Italy'),\n",
        "    (27, 'Aria Green', 22, 'Spain'),\n",
        "    (28, 'Daniel Adams', 44, 'Australia'),\n",
        "    (29, 'Grace Baker', 20, 'India'),\n",
        "    (30, 'Samuel Gonzalez', 36, 'Brazil'),\n",
        "    (31, 'Victoria Nelson', 27, 'USA'),\n",
        "    (32, 'Matthew Carter', 34, 'Canada'),\n",
        "    (33, 'Scarlett Mitchell', 25, 'UK'),\n",
        "    (34, 'David Perez', 41, 'Germany'),\n",
        "    (35, 'Zoe Roberts', 39, 'France'),\n",
        "    (36, 'David Turner', 30, 'Italy'),\n",
        "    (37, 'Lily Phillips', 23, 'Spain'),\n",
        "    (38, 'Luke Campbell', 47, 'Australia'),\n",
        "    (39, 'Natalie Parker', 18, 'India'),\n",
        "    (40, 'Isaac Evans',56,'Pakistan')\n",
        "]\n",
        "\n",
        "\n",
        "def func1(d):\n",
        "  a = []\n",
        "  names = []\n",
        "  for i in range(len(d)):\n",
        "    if d[i][2] >= 30 and (d[i][3] == 'USA' or  d[i][3] == 'Pakistan'):\n",
        "      a.append(d[i])\n",
        "      names.append(d[i][1])\n",
        "  print(a)\n",
        "  print(names)\n",
        "\n",
        "\n",
        "func1(data)\n",
        "print()\n",
        "\n",
        "def func2(d):\n",
        "  s = sorted(d , key=lambda x: x[2])\n",
        "  older = []\n",
        "  for i in range(len(s)-1,(len(s)-11),-1):\n",
        "\n",
        "    older.append(s[i])\n",
        "  print(older)\n",
        "  dup = []\n",
        "  dup2 = []\n",
        "  for i in d:\n",
        "    if i[1] not in dup:\n",
        "      dup.append(i[1])\n",
        "    else:\n",
        "      dup2.append(i[1])\n",
        "\n",
        "  if len(dup) == len(s):\n",
        "    print(\"NO Duplicate Names\")\n",
        "\n",
        "  else:\n",
        "    print(\" Duplicate Names Exits\")\n",
        "    print(dup2)\n",
        "\n",
        "func2(data)\n"
      ],
      "metadata": {
        "colab": {
          "base_uri": "https://localhost:8080/"
        },
        "id": "5eZiRHaqcXGy",
        "outputId": "db6d4e7c-f183-4758-9dfa-1efeb950f63a"
      },
      "execution_count": 5,
      "outputs": [
        {
          "output_type": "stream",
          "name": "stdout",
          "text": [
            "[(40, 'Isaac Evans', 56, 'Pakistan')]\n",
            "['Isaac Evans']\n",
            "\n",
            "[(40, 'Isaac Evans', 56, 'Pakistan'), (38, 'Luke Campbell', 47, 'Australia'), (8, 'James Davis', 45, 'Australia'), (28, 'Daniel Adams', 44, 'Australia'), (24, 'Henry Wright', 42, 'Germany'), (34, 'David Perez', 41, 'Germany'), (14, 'Mason Hernandez', 41, 'Germany'), (5, 'Emma Jones', 40, 'France'), (35, 'Zoe Roberts', 39, 'France'), (20, 'Jackson Lewis', 39, 'Brazil')]\n",
            " Duplicate Names Exits\n",
            "['Usman']\n"
          ]
        }
      ]
    },
    {
      "cell_type": "markdown",
      "source": [
        "**Part 2: Immutable Data Management with Tuples**"
      ],
      "metadata": {
        "id": "0rA8tAUSomf4"
      }
    },
    {
      "cell_type": "code",
      "source": [
        "trans = [\n",
        "    (1, 101, 100.0, '2022-01-01'),\n",
        "    (2, 202, 200.0, '2022-01-02'),\n",
        "    (3, 101, 300.0, '2022-01-03'),\n",
        "    (4, 303, 400.0, '2022-01-04'),\n",
        "    (5, 202, 500.0, '2022-01-05'),\n",
        "    (6, 101, 600.0, '2022-01-06'),\n",
        "    (7, 404, 700.0, '2022-01-07'),\n",
        "    (8, 202, 800.0, '2022-01-08'),\n",
        "    (9, 505, 900.0, '2022-01-09'),\n",
        "    (10, 101, 1000.0, '2022-01-10'),\n",
        "    (11, 606, 1100.0, '2022-01-11'),\n",
        "    (12, 202, 1200.0, '2022-01-12'),\n",
        "    (13, 707, 1300.0, '2022-01-13'),\n",
        "    (14, 808, 1400.0, '2022-01-14'),\n",
        "    (15, 101, 1500.0, '2022-01-15'),\n",
        "    (16, 909, 1600.0, '2022-01-16'),\n",
        "    (17, 202, 1700.0, '2022-01-17'),\n",
        "    (18, 1010, 1800.0, '2022-01-18'),\n",
        "    (19, 1111, 1900.0, '2022-01-19'),\n",
        "    (20, 101, 2000.0, '2022-01-20'),\n",
        "    (21, 1212, 2100.0, '2022-01-21'),\n",
        "    (22, 202, 2200.0, '2022-01-22'),\n",
        "    (23, 1313, 2300.0, '2022-01-23'),\n",
        "    (24, 1414, 2400.0, '2022-01-24'),\n",
        "    (25, 101, 2500.0, '2022-01-25'),\n",
        "    (26, 1515, 2600.0, '2022-01-26'),\n",
        "    (27, 202, 2700.0, '2022-01-27'),\n",
        "    (28, 1616, 2800.0, '2022-01-28'),\n",
        "    (29, 1717, 2900.0, '2022-01-29'),\n",
        "    (30, 101, 3000.0, '2022-01-30'),\n",
        "    (31, 1818, 3100.0, '2022-01-31'),\n",
        "    (32, 202, 3200.0, '2022-02-01'),\n",
        "    (33, 1919, 3300.0, '2022-02-02'),\n",
        "    (34, 2020, 3400.0, '2022-02-03'),\n",
        "    (35, 101, 3500.0, '2022-02-04'),\n",
        "    (36, 2121, 3600.0, '2022-02-05'),\n",
        "    (37, 202, 3700.0, '2022-02-06'),\n",
        "    (38, 2222, 3800.0, '2022-02-07'),\n",
        "    (39, 2323, 3900.0, '2022-02-08'),\n",
        "    (40, 101, 4000.0, '2022-02-09')\n",
        "]\n",
        "\n",
        "def unique(d):\n",
        "  above = []\n",
        "  for i in range(len(d)):\n",
        "    if d[i][1] not in above:\n",
        "      above.append(d[i][1])\n",
        "\n",
        "  print(len(above))\n",
        "unique(trans)\n",
        "print()\n",
        "\n",
        "def high_amount(d):\n",
        "  sor = sorted(d, key=lambda x: x[2], reverse=True)\n",
        "  print(sor[0])\n",
        "high_amount(trans)\n",
        "\n",
        "def two_lists(d):\n",
        "  id = []\n",
        "  user = []\n",
        "  for i in range(len(d)):\n",
        "    if d[i][0] not in id:\n",
        "      id.append(d[i][0])\n",
        "    if d[i][1] not in user:\n",
        "      user.append(d[i][1])\n",
        "  print(id)\n",
        "  print(user)\n",
        "print()\n",
        "two_lists(trans)\n",
        "\n"
      ],
      "metadata": {
        "id": "obaEwVf3oqSZ"
      },
      "execution_count": null,
      "outputs": []
    },
    {
      "cell_type": "markdown",
      "source": [
        "**What challenges might\n",
        "arise if the tuple size is inconsistent?**\n",
        "**Answer:**\n",
        "\n",
        "    (1) There maybe an Index error if tuple size is not consistent because there maybe fewer elements in tuples than expected.\n",
        "    (2)  There might be differrent position of ids and users in different tuples that will lead to inconsistencies in the esultant results."
      ],
      "metadata": {
        "id": "-o3hg_mtMDh-"
      }
    },
    {
      "cell_type": "markdown",
      "source": [
        "**Part 3: Unique Data Handling with Sets**"
      ],
      "metadata": {
        "id": "K86wT2NONQYL"
      }
    },
    {
      "cell_type": "code",
      "source": [
        "page_a = {1, 2, 3, 4, 5, 6}\n",
        "page_b = {4, 5, 6, 7, 8, 9, 10}\n",
        "page_c = {11, 12, 2, 5, 13}\n",
        "\n",
        "def sets(a,b,c):\n",
        "  print(a & b)\n",
        "  print((a | b) - (a & b))\n",
        "\n",
        "\n",
        "sets(page_a,page_b,page_c)\n",
        "print()\n",
        "\n",
        "def set2(a,b,c):\n",
        "  page_a.add(34)\n",
        "  page_a.update([35,36,37])\n",
        "  print(page_a)\n",
        "  page_b.remove(4)\n",
        "  page_b.difference_update([8,9,10])\n",
        "  page_b.discard(8)\n",
        "  print(page_b)\n",
        "set2(page_a,page_b,page_c)\n"
      ],
      "metadata": {
        "id": "4F9RRNz2NWPN"
      },
      "execution_count": null,
      "outputs": []
    },
    {
      "cell_type": "markdown",
      "source": [
        "**Part 4: Data Aggregation with Dictionaries**"
      ],
      "metadata": {
        "id": "QmkugjKjW4vA"
      }
    },
    {
      "cell_type": "code",
      "source": [
        "user_feedback = {\n",
        "    123: {'rating': 4, 'comments': \"Good product, but a bit expensive.\"},\n",
        "    456: {'rating': 5, 'comments': \"Excellent! Would recommend to anyone.\"},\n",
        "    789: {'rating': 2, 'comments': \"Didn't meet expectations.\"} ,\n",
        "     223: {'rating': 5, 'comments': \"Good product, but a bit expensive.\"},\n",
        "    556: {'rating': 5, 'comments': \"Excellent! Would recommend to anyone.\"},\n",
        "    779: {'rating': 5, 'comments': \"Didn't meet expectations.\"}\n",
        "}\n",
        "\n",
        "user_feedback2 = {\n",
        "    123: {'rating': 5, 'comments': \"Good product, but a bit expensive.and second comment\"},\n",
        "    4456: {'rating': 5, 'comments': \"Excellent! Would recommend to anyone.\"},\n",
        "    7839: {'rating': 2, 'comments': \"Didn't meet expectations.\"} ,\n",
        "     2243: {'rating': 7, 'comments': \"Good product, but a bit expensive.\"},\n",
        "    556: {'rating': 3, 'comments': \"Excellent! Would recommend to anyone.\"},\n",
        "    779: {'rating': 8, 'comments': \"Didn't meet expectations. also second coment\"}\n",
        "}\n",
        "\n",
        "def dicti(d):\n",
        "  a = []\n",
        "  for user_id, f in user_feedback.items():\n",
        "    if f['rating'] >= 4:\n",
        "      a.append((user_id,f['rating']))\n",
        "  a = dict(a)\n",
        "  print(a)\n",
        "dicti(dicti)\n",
        "\n",
        "def sorting(d):\n",
        "  sor = sorted(user_feedback.items(), key=lambda x: x[1]['rating'], reverse=True)\n",
        "  print(dict(sor[0:5]))\n",
        "sorting(user_feedback)\n",
        "print()\n",
        "\n",
        "def app(user_feedback, user_feedback2):\n",
        "\n",
        "  feedback_list = [user_feedback, user_feedback2]\n",
        "  combined_feedback = {}\n",
        "\n",
        "  for feedback in feedback_list:\n",
        "    for user, data in feedback.items():\n",
        "        if user in combined_feedback:\n",
        "            combined_feedback[user][\"rating\"] = max(combined_feedback[user][\"rating\"], data[\"rating\"])\n",
        "            combined_feedback[user][\"comments\"] += \" \" + data[\"comments\"]\n",
        "        else:\n",
        "            combined_feedback[user] = data.copy()\n",
        "\n",
        "  for user, data in combined_feedback.items():\n",
        "    print(f\"{user}: Rating = {data['rating']}, Comments = {data['comments']}\")\n",
        "\n",
        "app(user_feedback, user_feedback2)"
      ],
      "metadata": {
        "colab": {
          "base_uri": "https://localhost:8080/"
        },
        "id": "67IP_po8W8ID",
        "outputId": "84a479e3-e418-4e94-db68-5b07144a3ae7"
      },
      "execution_count": 41,
      "outputs": [
        {
          "output_type": "stream",
          "name": "stdout",
          "text": [
            "{123: 4, 456: 5, 223: 5, 556: 5, 779: 5}\n",
            "{456: {'rating': 5, 'comments': 'Excellent! Would recommend to anyone.'}, 223: {'rating': 5, 'comments': 'Good product, but a bit expensive.'}, 556: {'rating': 5, 'comments': 'Excellent! Would recommend to anyone.'}, 779: {'rating': 5, 'comments': \"Didn't meet expectations.\"}, 123: {'rating': 4, 'comments': 'Good product, but a bit expensive.'}}\n",
            "\n",
            "123: Rating = 5, Comments = Good product, but a bit expensive. Good product, but a bit expensive.and second comment\n",
            "456: Rating = 5, Comments = Excellent! Would recommend to anyone.\n",
            "789: Rating = 2, Comments = Didn't meet expectations.\n",
            "223: Rating = 5, Comments = Good product, but a bit expensive.\n",
            "556: Rating = 5, Comments = Excellent! Would recommend to anyone. Excellent! Would recommend to anyone.\n",
            "779: Rating = 8, Comments = Didn't meet expectations. Didn't meet expectations. also second coment\n",
            "4456: Rating = 5, Comments = Excellent! Would recommend to anyone.\n",
            "7839: Rating = 2, Comments = Didn't meet expectations.\n",
            "2243: Rating = 7, Comments = Good product, but a bit expensive.\n"
          ]
        }
      ]
    }
  ]
}