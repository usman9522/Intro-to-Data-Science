{
  "nbformat": 4,
  "nbformat_minor": 0,
  "metadata": {
    "colab": {
      "provenance": []
    },
    "kernelspec": {
      "name": "python3",
      "display_name": "Python 3"
    },
    "language_info": {
      "name": "python"
    }
  },
  "cells": [
    {
      "cell_type": "markdown",
      "source": [
        "**TASK 01**"
      ],
      "metadata": {
        "id": "D5CfF5UOgzka"
      }
    },
    {
      "cell_type": "code",
      "execution_count": null,
      "metadata": {
        "id": "2Q6jNGE7EySB"
      },
      "outputs": [],
      "source": [
        "from functools import reduce\n",
        "orders = [\n",
        "    {\"name\": \"Alice\", \"amount\": 250.5},\n",
        "    {\"name\": \"Bob\", \"amount\": \"invalid_data\"},\n",
        "    {\"name\": \"Charlie\", \"amount\": 450},\n",
        "    {\"name\": \"Daisy\", \"amount\": 100.0},\n",
        "    {\"name\": \"Eve\", \"amount\": -30},  # Invalid amount\n",
        "]\n",
        "\n",
        "###########   Part A  #############\n",
        "def get_valid_orders(order_list):\n",
        "    return list(filter(is_valid_amount, order_list))\n",
        "\n",
        "def is_valid_amount(order):\n",
        "    try:\n",
        "        amount = float(order[\"amount\"])\n",
        "        return amount >= 0\n",
        "    except (ValueError, TypeError):\n",
        "        return False\n",
        "\n",
        "###########  Part B  ############\n",
        "def discount_large_orders(order):\n",
        "    if order[\"amount\"] > 300:\n",
        "        order[\"amount\"] *= 0.9\n",
        "    return order\n",
        "\n",
        "def apply_discounts_to_valid_orders(valid_orders):\n",
        "    return list(map(discount_large_orders, valid_orders))\n",
        "\n",
        "############   Part C   ###########\n",
        "def get_total_sales(discounted_orders):\n",
        "    return reduce(lambda total, order: total + order[\"amount\"], discounted_orders, 0)\n",
        "\n",
        "def main():\n",
        "    valid_orders = get_valid_orders(orders)\n",
        "    print(\"Valid Orders:\", valid_orders)\n",
        "    discounted_orders = apply_discounts_to_valid_orders(valid_orders)\n",
        "    print(\"Orders After Discount:\", discounted_orders)\n",
        "    total_sales = get_total_sales(discounted_orders)\n",
        "    print(\"Total Sales After Discount:\", total_sales)\n",
        "main()\n"
      ]
    },
    {
      "cell_type": "markdown",
      "source": [
        "**TASK 02**"
      ],
      "metadata": {
        "id": "CF0MIa1thStz"
      }
    },
    {
      "cell_type": "code",
      "source": [
        "#########   Part A   ###########\n",
        "class SquareNumbers:\n",
        "    def __init__(self, limit):\n",
        "        self.limit = limit\n",
        "        self.current = 1\n",
        "\n",
        "    def __iter__(self):\n",
        "        return self\n",
        "\n",
        "    def __next__(self):\n",
        "        if self.current <= self.limit:\n",
        "            result = self.current ** 2\n",
        "            self.current += 1\n",
        "            return result\n",
        "        else:\n",
        "            raise StopIteration\n",
        "\n",
        "##########  Part B  ###########\n",
        "def generate_fibonacci(max_value):\n",
        "    first, second = 0, 1\n",
        "    while first <= max_value:\n",
        "        yield first\n",
        "        first, second= second, first + second\n",
        "\n",
        "print(\"Squares of the first 5 natural numbers:\")\n",
        "square_iterator = SquareNumbers(5)\n",
        "for square in square_iterator:\n",
        "    print(square)\n",
        "\n",
        "print()\n",
        "print(\"Fibonacci sequence up to 10:\")\n",
        "for fib_number in generate_fibonacci(10):\n",
        "    print(fib_number)\n"
      ],
      "metadata": {
        "id": "8AK57e5ahVem"
      },
      "execution_count": null,
      "outputs": []
    },
    {
      "cell_type": "markdown",
      "source": [
        "**Task 03**"
      ],
      "metadata": {
        "id": "822JOZVzhgIq"
      }
    },
    {
      "cell_type": "code",
      "source": [
        "##########  Part A  ################\n",
        "class CustomDivisionError(Exception):\n",
        "    pass\n",
        "def safe_divide(numbers, divisor):\n",
        "    result_list = []\n",
        "    for number in numbers:\n",
        "        try:\n",
        "            result_list.append(number / divisor)\n",
        "        except ZeroDivisionError:\n",
        "            raise CustomDivisionError(\"Error: Division by zero is not allowed.\") from None\n",
        "        except Exception:\n",
        "            raise CustomDivisionError(\"Error: An unexpected issue occurred during division.\") from None\n",
        "    return result_list\n",
        "\n",
        "#############  Part B  ############\n",
        "def log_exceptions(func):\n",
        "    def wrapped_func(*args, **kwargs):\n",
        "        try:\n",
        "            return func(*args, **kwargs)\n",
        "        except Exception as ex:\n",
        "            print(f\"Error in '{func.__name__}': {type(ex).__name__} - {ex}\")\n",
        "            raise\n",
        "    return wrapped_func\n",
        "\n",
        "@log_exceptions\n",
        "def main():\n",
        "    numbers = [10, 20, 30, 'a', 40]\n",
        "    divisor = 0\n",
        "    try:\n",
        "        output = safe_divide(numbers, divisor)\n",
        "        print(\"Division Result:\", output)\n",
        "    except CustomDivisionError as e:\n",
        "        print(\"CustomDivisionError caught:\", e)\n",
        "main()\n"
      ],
      "metadata": {
        "colab": {
          "base_uri": "https://localhost:8080/"
        },
        "id": "JNeoRuhwhi60",
        "outputId": "78502bf3-b33f-4912-b1d7-3018fb1fccb5"
      },
      "execution_count": 1,
      "outputs": [
        {
          "output_type": "stream",
          "name": "stdout",
          "text": [
            "CustomDivisionError caught: Error: Division by zero is not allowed.\n"
          ]
        }
      ]
    }
  ]
}